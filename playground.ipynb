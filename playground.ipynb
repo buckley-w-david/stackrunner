{
 "cells": [
  {
   "cell_type": "code",
   "execution_count": null,
   "metadata": {},
   "outputs": [],
   "source": [
    "import stackrunner\n",
    "# Handle imports to stackrunner.sort\n",
    "sort_config = stackrunner.RunnerConfig(\n",
    "    tags=[\"python\", \"sorting\"],\n",
    "    not_tags=[\"python-2.x\"],\n",
    "    signature=stackrunner.Signature(\n",
    "        arguments=1\n",
    "    ),\n",
    "    prefix='sort'\n",
    ")\n",
    "# Handle imports to stackrunner.search\n",
    "search_config = stackrunner.RunnerConfig(\n",
    "    tags=[\"python\", \"search\"],\n",
    "    not_tags=[\"python-2.x\"],\n",
    "    signature=stackrunner.Signature(\n",
    "        arguments=2\n",
    "    ),\n",
    "    prefix='search'\n",
    ")\n",
    "stackrunner.init(sort_config)\n",
    "stackrunner.init(search_config)\n",
    "\n",
    "from functools import total_ordering\n",
    "@total_ordering\n",
    "class DataNode:\n",
    "    def __init__(self, value):\n",
    "        self.value = value\n",
    "        self.other_data = id(self)\n",
    "\n",
    "    def __lt__(self, other):\n",
    "        if hasattr(other, \"value\"):\n",
    "            return self.value < other.value\n",
    "        return self.value < other\n",
    "\n",
    "    def __eq__(self, other):\n",
    "        if hasattr(other, \"value\"):\n",
    "            return self.value == other.value\n",
    "        return self.value == other"
   ]
  },
  {
   "cell_type": "code",
   "execution_count": null,
   "metadata": {},
   "outputs": [],
   "source": [
    "import logging\n",
    "from stackrunner import logger\n",
    "logger.setLevel(logging.DEBUG)\n",
    "logging.basicConfig()\n",
    "\n",
    "from stackrunner.search import binary_search\n",
    "from stackrunner.sort import quicksort"
   ]
  },
  {
   "cell_type": "code",
   "execution_count": null,
   "metadata": {},
   "outputs": [],
   "source": [
    "from random import shuffle\n",
    "l = [DataNode(i) for i in range(100)]\n",
    "shuffle(l)\n",
    "\n",
    "sorted_list = quicksort(l)\n",
    "index = binary_search(sorted_list, 15)\n",
    "result = sorted_list[index]\n",
    "print(result.value, result.other_data)"
   ]
  }
 ],
 "metadata": {
  "kernelspec": {
   "display_name": "Python 3",
   "language": "python",
   "name": "python3"
  },
  "language_info": {
   "codemirror_mode": {
    "name": "ipython",
    "version": 3
   },
   "file_extension": ".py",
   "mimetype": "text/x-python",
   "name": "python",
   "nbconvert_exporter": "python",
   "pygments_lexer": "ipython3",
   "version": "3.8.6"
  }
 },
 "nbformat": 4,
 "nbformat_minor": 4
}
